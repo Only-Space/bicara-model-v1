{
 "cells": [
  {
   "cell_type": "code",
   "execution_count": 1,
   "id": "f102ed9a",
   "metadata": {},
   "outputs": [
    {
     "name": "stdout",
     "output_type": "stream",
     "text": [
      "Kelas C: 200 gambar disalin ke dataset/C\n",
      "Kelas L: 200 gambar disalin ke dataset/L\n",
      "Kelas V: 200 gambar disalin ke dataset/V\n",
      "Kelas I: 200 gambar disalin ke dataset/I\n",
      "✅ Dataset berhasil diperkecil menjadi 200 gambar per kelas!\n"
     ]
    }
   ],
   "source": [
    "import os\n",
    "import shutil\n",
    "import random\n",
    "from pathlib import Path\n",
    "\n",
    "# Path asal dan tujuan\n",
    "src_dir = Path(\"datasets\")   # folder asal (semua gambar)\n",
    "dst_dir = Path(\"dataset\")    # folder tujuan\n",
    "\n",
    "# Buat folder tujuan\n",
    "dst_dir.mkdir(parents=True, exist_ok=True)\n",
    "\n",
    "# Jumlah gambar per kelas\n",
    "max_images = 200\n",
    "\n",
    "# Iterasi setiap kelas\n",
    "for class_name in os.listdir(src_dir):\n",
    "    class_path = src_dir / class_name\n",
    "    if not class_path.is_dir():\n",
    "        continue\n",
    "\n",
    "    # Buat folder kelas di tujuan\n",
    "    dst_class_path = dst_dir / class_name\n",
    "    dst_class_path.mkdir(parents=True, exist_ok=True)\n",
    "\n",
    "    # Ambil semua file gambar\n",
    "    images = os.listdir(class_path)\n",
    "    random.shuffle(images)\n",
    "\n",
    "    # Ambil hanya 200 (atau kurang jika jumlahnya < 200)\n",
    "    selected_images = images[:max_images]\n",
    "\n",
    "    # Copy file\n",
    "    for file_name in selected_images:\n",
    "        src = class_path / file_name\n",
    "        dst = dst_class_path / file_name\n",
    "        shutil.copy2(src, dst)\n",
    "\n",
    "    print(f\"Kelas {class_name}: {len(selected_images)} gambar disalin ke {dst_class_path}\")\n",
    "\n",
    "print(\"✅ Dataset berhasil diperkecil menjadi 200 gambar per kelas!\")\n"
   ]
  }
 ],
 "metadata": {
  "kernelspec": {
   "display_name": "venv",
   "language": "python",
   "name": "python3"
  },
  "language_info": {
   "codemirror_mode": {
    "name": "ipython",
    "version": 3
   },
   "file_extension": ".py",
   "mimetype": "text/x-python",
   "name": "python",
   "nbconvert_exporter": "python",
   "pygments_lexer": "ipython3",
   "version": "3.12.3"
  }
 },
 "nbformat": 4,
 "nbformat_minor": 5
}
